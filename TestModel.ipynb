{
 "cells": [
  {
   "cell_type": "code",
   "execution_count": 6,
   "id": "7dced1d0-0cb9-42d4-818f-ae6c67ba1de5",
   "metadata": {},
   "outputs": [],
   "source": [
    "from sysbiojax import Model"
   ]
  },
  {
   "attachments": {
    "image.png": {
     "image/png": "[encoded data removed]"
    }
   },
   "cell_type": "markdown",
   "id": "e743fea1",
   "metadata": {},
   "source": [
    "![image.png](attachment:image.png)"
   ]
  },
  {
   "cell_type": "code",
   "execution_count": 7,
   "id": "a23e15c8-90ac-4670-8785-ee29e0a9b3dc",
   "metadata": {},
   "outputs": [],
   "source": [
    "model = Model(name=\"Simple menten model\")"
   ]
  },
  {
   "cell_type": "code",
   "execution_count": 8,
   "id": "220a3929-0d3a-4731-a94f-85da2afe326d",
   "metadata": {},
   "outputs": [],
   "source": [
    "# Add species\n",
    "model.add_species(\"e1\")\n",
    "model.add_species(\"s1, s2\")\n",
    "model.add_species(\"c1\")"
   ]
  },
  {
   "attachments": {},
   "cell_type": "markdown",
   "id": "1e1e82b2",
   "metadata": {},
   "source": [
    "### Model ODEs\n",
    "\n",
    "$\\partial_t s_1 = c_1 k_{-1} - s_1 e_1 k_1$\n",
    "\n",
    "$\\partial_t c_1 = s_1 e1 k_1 - c_1 (k_{-1} + k_2)$\n",
    "\n",
    "$\\partial_t s_2 = c_1 k_2$\n",
    "\n",
    "$\\partial_t e_1 = c_1 (k_2 + k_{-1}) - e_1 s_1 * k_1$\n",
    "\n",
    "$E_{tot} = c_1 + e_1$"
   ]
  },
  {
   "cell_type": "code",
   "execution_count": 9,
   "id": "3f5dcff0-603e-4a45-8caf-b8bae7059048",
   "metadata": {},
   "outputs": [],
   "source": [
    "# Add ODE terms\n",
    "model.add_ode(species=\"s1\", equation=\"c1 * k_1b - s1 * e1 * k1\")\n",
    "model.add_ode(species=\"c1\", equation=\"s1 * e1 * k1 - c1 * (k_1b + k2)\")\n",
    "model.add_ode(species=\"s2\", equation=\"c1 * k2\")\n",
    "model.add_ode(species=\"e1\", equation=\"c1 * (k2 + k_1b) - e1 * s1 * k1\")\n",
    "\n",
    "# Add relational parameters\n",
    "model.add_parameter(name=\"E_tot\", equation=\"e1 + c1\")"
   ]
  }
 ],
 "metadata": {
  "kernelspec": {
   "display_name": "kinetics",
   "language": "python",
   "name": "python3"
  },
  "language_info": {
   "codemirror_mode": {
    "name": "ipython",
    "version": 3
   },
   "file_extension": ".py",
   "mimetype": "text/x-python",
   "name": "python",
   "nbconvert_exporter": "python",
   "pygments_lexer": "ipython3",
   "version": "3.10.10"
  }
 },
 "nbformat": 4,
 "nbformat_minor": 5
}
