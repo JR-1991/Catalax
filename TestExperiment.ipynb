{
 "cells": [
  {
   "cell_type": "code",
   "execution_count": 68,
   "metadata": {},
   "outputs": [],
   "source": [
    "import jax.numpy as jnp\n",
    "import matplotlib.pyplot as plt"
   ]
  },
  {
   "cell_type": "code",
   "execution_count": 69,
   "metadata": {},
   "outputs": [
    {
     "name": "stdout",
     "output_type": "stream",
     "text": [
      "The autoreload extension is already loaded. To reload it, use:\n",
      "  %reload_ext autoreload\n"
     ]
    }
   ],
   "source": [
    "%load_ext autoreload\n",
    "%autoreload 2\n",
    "from sysbiojax.measurement.measurment import Series, Reactant, Catalyst, Measurement, Experiment\n",
    "from sysbiojax.model.model import Model"
   ]
  },
  {
   "attachments": {},
   "cell_type": "markdown",
   "metadata": {},
   "source": [
    "## Create model"
   ]
  },
  {
   "cell_type": "code",
   "execution_count": 70,
   "metadata": {},
   "outputs": [
    {
     "data": {
      "text/latex": [
       "$\\displaystyle x = \\left[\\begin{matrix}s_{0} & s_{1} & p_{0}\\end{matrix}\\right]$"
      ],
      "text/plain": [
       "Eq(x, Matrix([[s0, s1, p0]]))"
      ]
     },
     "metadata": {},
     "output_type": "display_data"
    },
    {
     "data": {
      "text/latex": [
       "$\\displaystyle \\theta = \\left[\\begin{matrix}K_{m} & kcat & k\\end{matrix}\\right]$"
      ],
      "text/plain": [
       "Eq(theta, Matrix([[K_m, kcat, k]]))"
      ]
     },
     "metadata": {},
     "output_type": "display_data"
    },
    {
     "data": {
      "text/latex": [
       "$\\displaystyle \\frac{d}{d t} s_{0} = - \\frac{kcat p_{0} s_{0}}{K_{m} + s_{0}}$"
      ],
      "text/plain": [
       "Eq(Derivative(s0, t), -kcat*p0*s0/(K_m + s0))"
      ]
     },
     "metadata": {},
     "output_type": "display_data"
    },
    {
     "data": {
      "text/latex": [
       "$\\displaystyle \\frac{d}{d t} s_{1} = \\frac{kcat p_{0} s_{0}}{K_{m} + s_{0}}$"
      ],
      "text/plain": [
       "Eq(Derivative(s1, t), kcat*p0*s0/(K_m + s0))"
      ]
     },
     "metadata": {},
     "output_type": "display_data"
    },
    {
     "data": {
      "text/latex": [
       "$\\displaystyle \\frac{d}{d t} p_{0} = - k p_{0}$"
      ],
      "text/plain": [
       "Eq(Derivative(p0, t), -k*p0)"
      ]
     },
     "metadata": {},
     "output_type": "display_data"
    },
    {
     "data": {
      "text/plain": []
     },
     "execution_count": 70,
     "metadata": {},
     "output_type": "execute_result"
    }
   ],
   "source": [
    "# create data\n",
    "# Initialize the model\n",
    "model = Model(name=\"Menten model with enzyme inactivation\")\n",
    "\n",
    "# Add species\n",
    "model.add_species(\"s0, s1, p0\")\n",
    "\n",
    "# Add ODEs\n",
    "model.add_ode(\"s0\", \"- (kcat * p0 * s0) / ( K_m + s0)\")\n",
    "model.add_ode(\"s1\", \"(kcat * p0 * s0) / ( K_m + s0)\")\n",
    "model.add_ode(\"p0\", \"- k * p0\")\n",
    "\n",
    "# Add parameter values\n",
    "model.parameters.kcat.value = 20\n",
    "model.parameters.k.value = 0\n",
    "model.parameters.K_m.value = 200\n",
    "\n",
    "model"
   ]
  },
  {
   "attachments": {},
   "cell_type": "markdown",
   "metadata": {},
   "source": [
    "## Generate data"
   ]
  },
  {
   "cell_type": "code",
   "execution_count": 71,
   "metadata": {},
   "outputs": [],
   "source": [
    "INIT_ENZYME = 1\n",
    "INIT_PRODUCT = 0\n",
    "INIT_SUBSTRATES = [50, 80, 200, 300]"
   ]
  },
  {
   "cell_type": "code",
   "execution_count": 72,
   "metadata": {},
   "outputs": [],
   "source": [
    "time = jnp.tile(jnp.arange(21), 4).reshape(4, 21)\n",
    "\n",
    "initial_conditions = [\n",
    "    dict(s0=value, s1=INIT_PRODUCT, p0=INIT_ENZYME) for value in INIT_SUBSTRATES\n",
    "]\n",
    "\n",
    "# K_m, k, kcat\n",
    "params = jnp.array([100, 0.1, 20])\n",
    "\n",
    "time, data = model.simulate(\n",
    "    initial_conditions=initial_conditions,\n",
    "    dt0=0.1,\n",
    "    saveat=time,\n",
    "    parameters=params,\n",
    "    in_axes=(0, None, 0),\n",
    ")"
   ]
  },
  {
   "cell_type": "code",
   "execution_count": 73,
   "metadata": {},
   "outputs": [],
   "source": [
    "catalyst = Catalyst(name=\"enzyme\", symbol=\"p0\", unit=\"mole / L\", init_conc=0)\n",
    "\n",
    "substrate = lambda init_conc, data: Reactant(\n",
    "    name=\"substrate\",\n",
    "    symbol=\"s0\",\n",
    "    unit=\"mole / L\",\n",
    "    init_conc=init_conc,\n",
    "    data=[Series(values=data)],\n",
    ")\n",
    "\n",
    "product = lambda init_conc, data: Reactant(\n",
    "    name=\"product\",\n",
    "    symbol=\"s1\",\n",
    "    unit=\"mole / L\",\n",
    "    init_conc=init_conc,\n",
    "    data=[Series(values=data)],\n",
    ")"
   ]
  },
  {
   "cell_type": "code",
   "execution_count": 74,
   "metadata": {},
   "outputs": [],
   "source": [
    "measurements = list()\n",
    "for init_condition, data_condition in zip(initial_conditions, data):\n",
    "    measurements.append(\n",
    "        Measurement(\n",
    "            catalysts={\"p0\": catalyst},\n",
    "            reactants={\n",
    "                \"s0\": substrate(\n",
    "                    init_conc=init_condition[\"s0\"], data=data_condition[:, 1].tolist()\n",
    "                ),\n",
    "                \"s1\": product(\n",
    "                    init_conc=init_condition[\"s1\"], data=data_condition[:, 2].tolist()\n",
    "                ),\n",
    "            },\n",
    "            time=time[0].tolist(),\n",
    "            time_unit=\"s\",\n",
    "        )\n",
    "    )"
   ]
  },
  {
   "cell_type": "code",
   "execution_count": 75,
   "metadata": {},
   "outputs": [
    {
     "data": {
      "text/plain": [
       "Experiment(name='Kinetic assay', measurements=[Measurement(catalysts={'p0': Catalyst(name='enzyme', symbol=p0, init_conc=0.0, unit='mole / L', data=None)}, reactants={'s0': Reactant(name='substrate', symbol=s0, init_conc=50.0, unit='mole / L', data=[Series(values=[50.0, 43.92390823364258, 38.88572692871094, 34.697933197021484, 31.205833435058594, 28.282861709594727, 25.826099395751953, 23.75213623046875, 21.993484497070312, 20.49553680419922, 19.21404457092285, 18.113080978393555, 17.163372039794922, 16.340988159179688, 15.626276016235352, 15.003036499023438, 14.457844734191895, 13.979532241821289, 13.558758735656738, 13.187677383422852, 12.859671592712402])]), 's1': Reactant(name='product', symbol=s1, init_conc=0.0, unit='mole / L', data=[Series(values=[0.0, 6.076091766357422, 11.114272117614746, 15.3020658493042, 18.794174194335938, 21.717145919799805, 24.173908233642578, 26.24787139892578, 28.00652313232422, 29.504470825195312, 30.78596305847168, 31.886926651000977, 32.83663558959961, 33.65901565551758, 34.373722076416016, 34.9969596862793, 35.54214859008789, 36.02046585083008, 36.44124221801758, 36.81231689453125, 37.140316009521484])])}, time=[0.0, 1.0, 2.0, 3.0, 4.0, 5.0, 6.0, 7.0, 8.0, 9.0, 10.0, 11.0, 12.0, 13.0, 14.0, 15.0, 16.0, 17.0, 18.0, 19.0, 20.0], time_unit='s'), Measurement(catalysts={'p0': Catalyst(name='enzyme', symbol=p0, init_conc=0.0, unit='mole / L', data=None)}, reactants={'s0': Reactant(name='substrate', symbol=s0, init_conc=80.0, unit='mole / L', data=[Series(values=[80.0, 71.7923583984375, 64.80718994140625, 58.856353759765625, 53.778785705566406, 49.43762969970703, 45.71731185913086, 42.520687103271484, 39.766353607177734, 37.38626480102539, 35.32355499267578, 33.53070831298828, 31.967987060546875, 30.602108001708984, 29.405126571655273, 28.353527069091797, 27.427461624145508, 26.610132217407227, 25.88726806640625, 25.24671745300293, 24.67808723449707])]), 's1': Reactant(name='product', symbol=s1, init_conc=0.0, unit='mole / L', data=[Series(values=[0.0, 8.207647323608398, 15.192821502685547, 21.143653869628906, 26.221221923828125, 30.562381744384766, 34.2827033996582, 37.47932815551758, 40.23366165161133, 42.61375045776367, 44.67646026611328, 46.46930694580078, 48.03202819824219, 49.397911071777344, 50.59489440917969, 51.6464958190918, 52.57255935668945, 53.38988494873047, 54.11273956298828, 54.75328826904297, 55.32191848754883])])}, time=[0.0, 1.0, 2.0, 3.0, 4.0, 5.0, 6.0, 7.0, 8.0, 9.0, 10.0, 11.0, 12.0, 13.0, 14.0, 15.0, 16.0, 17.0, 18.0, 19.0, 20.0], time_unit='s'), Measurement(catalysts={'p0': Catalyst(name='enzyme', symbol=p0, init_conc=0.0, unit='mole / L', data=None)}, reactants={'s0': Reactant(name='substrate', symbol=s0, init_conc=200.0, unit='mole / L', data=[Series(values=[200.0, 187.44869995117188, 176.3377685546875, 166.49742126464844, 157.77728271484375, 150.0446014404297, 143.18222045898438, 137.0870819091797, 131.66860961914062, 126.84722137451172, 122.55308532714844, 118.72492218017578, 115.3089599609375, 112.25800323486328, 109.5306167602539, 107.09036254882812, 104.90521240234375, 102.94695281982422, 101.19071197509766, 99.61453247070312, 98.19902038574219])]), 's1': Reactant(name='product', symbol=s1, init_conc=0.0, unit='mole / L', data=[Series(values=[0.0, 12.551300048828125, 23.662242889404297, 33.50259780883789, 42.222721099853516, 49.955413818359375, 56.81778335571289, 62.91289520263672, 68.33136749267578, 73.15274047851562, 77.4468765258789, 81.27503967285156, 84.69100189208984, 87.74195861816406, 90.46934509277344, 92.90959930419922, 95.0947494506836, 97.05300903320312, 98.80924987792969, 100.38542938232422, 101.80094146728516])])}, time=[0.0, 1.0, 2.0, 3.0, 4.0, 5.0, 6.0, 7.0, 8.0, 9.0, 10.0, 11.0, 12.0, 13.0, 14.0, 15.0, 16.0, 17.0, 18.0, 19.0, 20.0], time_unit='s'), Measurement(catalysts={'p0': Catalyst(name='enzyme', symbol=p0, init_conc=0.0, unit='mole / L', data=None)}, reactants={'s0': Reactant(name='substrate', symbol=s0, init_conc=300.0, unit='mole / L', data=[Series(values=[300.0, 285.812255859375, 273.1297607421875, 261.7882385253906, 251.64163208007812, 242.5596160888672, 234.42640686035156, 227.13905334472656, 220.60614013671875, 214.7463836669922, 209.4876708984375, 204.76577758789062, 200.52377319335938, 196.7109832763672, 193.28237915039062, 190.19781494140625, 187.42149353027344, 184.9216766357422, 182.669921875, 180.64085388183594, 178.81187438964844])]), 's1': Reactant(name='product', symbol=s1, init_conc=0.0, unit='mole / L', data=[Series(values=[0.0, 14.187773704528809, 26.87028694152832, 38.21172332763672, 48.358360290527344, 57.44038391113281, 65.5736083984375, 72.86096954345703, 79.39388275146484, 85.25363159179688, 90.51238250732422, 95.2342529296875, 99.47624969482422, 103.28903198242188, 106.71765899658203, 109.8022689819336, 112.57856750488281, 115.07839965820312, 117.3301773071289, 119.35923767089844, 121.18824005126953])])}, time=[0.0, 1.0, 2.0, 3.0, 4.0, 5.0, 6.0, 7.0, 8.0, 9.0, 10.0, 11.0, 12.0, 13.0, 14.0, 15.0, 16.0, 17.0, 18.0, 19.0, 20.0], time_unit='s')])"
      ]
     },
     "execution_count": 75,
     "metadata": {},
     "output_type": "execute_result"
    }
   ],
   "source": [
    "experiment = Experiment(name=\"Kinetic assay\", measurements=measurements)\n",
    "\n",
    "experiment"
   ]
  },
  {
   "cell_type": "code",
   "execution_count": 81,
   "metadata": {},
   "outputs": [
    {
     "data": {
      "image/png": "[encoded data removed]",
      "text/plain": [
       "<Figure size 640x480 with 1 Axes>"
      ]
     },
     "metadata": {},
     "output_type": "display_data"
    }
   ],
   "source": [
    "for measurement in experiment.measurements:\n",
    "    plt.scatter(\n",
    "        measurement.time,\n",
    "        measurement.reactants[\"s0\"].data[0].values,\n",
    "        marker=\".\",\n",
    "        label=measurement.reactants[\"s0\"].init_conc,\n",
    "    )\n",
    "plt.legend(title=\"Initial Substrate\")\n",
    "plt.ylabel(f\"{measurement.reactants['s0'].name} [{measurement.reactants['s0'].unit}]\")\n",
    "plt.xlabel(f\"time [{measurement.time_unit}]\")\n",
    "plt.show()"
   ]
  }
 ],
 "metadata": {
  "kernelspec": {
   "display_name": "jax",
   "language": "python",
   "name": "python3"
  },
  "language_info": {
   "codemirror_mode": {
    "name": "ipython",
    "version": 3
   },
   "file_extension": ".py",
   "mimetype": "text/x-python",
   "name": "python",
   "nbconvert_exporter": "python",
   "pygments_lexer": "ipython3",
   "version": "3.11.3"
  },
  "orig_nbformat": 4
 },
 "nbformat": 4,
 "nbformat_minor": 2
}
