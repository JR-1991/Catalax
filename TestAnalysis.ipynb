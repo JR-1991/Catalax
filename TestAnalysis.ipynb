{
 "cells": [
  {
   "cell_type": "code",
   "execution_count": 1,
   "metadata": {},
   "outputs": [
    {
     "name": "stderr",
     "output_type": "stream",
     "text": [
      "/Users/max/miniconda3/envs/jax/lib/python3.11/site-packages/tqdm/auto.py:21: TqdmWarning: IProgress not found. Please update jupyter and ipywidgets. See https://ipywidgets.readthedocs.io/en/stable/user_install.html\n",
      "  from .autonotebook import tqdm as notebook_tqdm\n"
     ]
    }
   ],
   "source": [
    "%load_ext autoreload\n",
    "%autoreload 2\n",
    "from sysbiojax import Model"
   ]
  },
  {
   "attachments": {},
   "cell_type": "markdown",
   "metadata": {},
   "source": [
    "# Create Model"
   ]
  },
  {
   "cell_type": "code",
   "execution_count": 2,
   "metadata": {},
   "outputs": [
    {
     "name": "stdout",
     "output_type": "stream",
     "text": [
      "Model summary\n"
     ]
    },
    {
     "data": {
      "text/latex": [
       "$\\displaystyle x = \\left[\\begin{matrix}s_{0} & s_{1} & p_{0}\\end{matrix}\\right]$"
      ],
      "text/plain": [
       "Eq(x, Matrix([[s0, s1, p0]]))"
      ]
     },
     "metadata": {},
     "output_type": "display_data"
    },
    {
     "data": {
      "text/latex": [
       "$\\displaystyle \\theta = \\left[\\begin{matrix}K_{m} & kcat & k\\end{matrix}\\right]$"
      ],
      "text/plain": [
       "Eq(theta, Matrix([[K_m, kcat, k]]))"
      ]
     },
     "metadata": {},
     "output_type": "display_data"
    },
    {
     "data": {
      "text/latex": [
       "$\\displaystyle \\frac{d}{d t} s_{0} = - \\frac{kcat p_{0} s_{0}}{K_{m} + s_{0}}$"
      ],
      "text/plain": [
       "Eq(Derivative(s0, t), -kcat*p0*s0/(K_m + s0))"
      ]
     },
     "metadata": {},
     "output_type": "display_data"
    },
    {
     "data": {
      "text/latex": [
       "$\\displaystyle \\frac{d}{d t} s_{1} = \\frac{kcat p_{0} s_{0}}{K_{m} + s_{0}}$"
      ],
      "text/plain": [
       "Eq(Derivative(s1, t), kcat*p0*s0/(K_m + s0))"
      ]
     },
     "metadata": {},
     "output_type": "display_data"
    },
    {
     "data": {
      "text/latex": [
       "$\\displaystyle \\frac{d}{d t} p_{0} = - k p_{0}$"
      ],
      "text/plain": [
       "Eq(Derivative(p0, t), -k*p0)"
      ]
     },
     "metadata": {},
     "output_type": "display_data"
    },
    {
     "data": {
      "text/html": [
       "<div>\n",
       "<style scoped>\n",
       "    .dataframe tbody tr th:only-of-type {\n",
       "        vertical-align: middle;\n",
       "    }\n",
       "\n",
       "    .dataframe tbody tr th {\n",
       "        vertical-align: top;\n",
       "    }\n",
       "\n",
       "    .dataframe thead th {\n",
       "        text-align: right;\n",
       "    }\n",
       "</style>\n",
       "<table border=\"1\" class=\"dataframe\">\n",
       "  <thead>\n",
       "    <tr style=\"text-align: right;\">\n",
       "      <th></th>\n",
       "      <th>name</th>\n",
       "      <th>symbol</th>\n",
       "      <th>value</th>\n",
       "      <th>initial_value</th>\n",
       "      <th>equation</th>\n",
       "      <th>lower_bound</th>\n",
       "      <th>upper_bound</th>\n",
       "      <th>stdev</th>\n",
       "    </tr>\n",
       "  </thead>\n",
       "  <tbody>\n",
       "    <tr>\n",
       "      <th>0</th>\n",
       "      <td>K_m</td>\n",
       "      <td>K_m</td>\n",
       "      <td>200.00</td>\n",
       "      <td>185</td>\n",
       "      <td>None</td>\n",
       "      <td>None</td>\n",
       "      <td>None</td>\n",
       "      <td>None</td>\n",
       "    </tr>\n",
       "    <tr>\n",
       "      <th>1</th>\n",
       "      <td>kcat</td>\n",
       "      <td>kcat</td>\n",
       "      <td>20.00</td>\n",
       "      <td>18</td>\n",
       "      <td>None</td>\n",
       "      <td>None</td>\n",
       "      <td>None</td>\n",
       "      <td>None</td>\n",
       "    </tr>\n",
       "    <tr>\n",
       "      <th>2</th>\n",
       "      <td>k</td>\n",
       "      <td>k</td>\n",
       "      <td>0.01</td>\n",
       "      <td>0</td>\n",
       "      <td>None</td>\n",
       "      <td>None</td>\n",
       "      <td>None</td>\n",
       "      <td>None</td>\n",
       "    </tr>\n",
       "  </tbody>\n",
       "</table>\n",
       "</div>"
      ],
      "text/plain": [
       "   name symbol   value  initial_value equation lower_bound upper_bound stdev\n",
       "0   K_m    K_m  200.00            185     None        None        None  None\n",
       "1  kcat   kcat   20.00             18     None        None        None  None\n",
       "2     k      k    0.01              0     None        None        None  None"
      ]
     },
     "metadata": {},
     "output_type": "display_data"
    },
    {
     "data": {
      "text/plain": []
     },
     "execution_count": 2,
     "metadata": {},
     "output_type": "execute_result"
    }
   ],
   "source": [
    "# Initialize the model\n",
    "model = Model(name=\"Menten model with enzyme inactivation\")\n",
    "\n",
    "# Add species\n",
    "model.add_species(\"s0, s1, p0\")\n",
    "\n",
    "# Add ODEs\n",
    "model.add_ode(\"s0\", \"- (kcat * p0 * s0) / ( K_m + s0)\")\n",
    "model.add_ode(\"s1\", \"(kcat * p0 * s0) / ( K_m + s0)\")\n",
    "model.add_ode(\"p0\", \"- k * p0\")\n",
    "\n",
    "# Add parameter values\n",
    "model.parameters.kcat.value = 20\n",
    "model.parameters.kcat.initial_value = 18\n",
    "\n",
    "model.parameters.k.value = 0.01\n",
    "model.parameters.k.initial_value = 0\n",
    "\n",
    "model.parameters.K_m.value = 200\n",
    "model.parameters.K_m.initial_value = 185\n",
    "\n",
    "model"
   ]
  },
  {
   "attachments": {},
   "cell_type": "markdown",
   "metadata": {},
   "source": [
    "# Generate test data"
   ]
  },
  {
   "cell_type": "code",
   "execution_count": null,
   "metadata": {},
   "outputs": [],
   "source": []
  },
  {
   "cell_type": "code",
   "execution_count": null,
   "metadata": {},
   "outputs": [],
   "source": []
  }
 ],
 "metadata": {
  "kernelspec": {
   "display_name": "jax",
   "language": "python",
   "name": "python3"
  },
  "language_info": {
   "codemirror_mode": {
    "name": "ipython",
    "version": 3
   },
   "file_extension": ".py",
   "mimetype": "text/x-python",
   "name": "python",
   "nbconvert_exporter": "python",
   "pygments_lexer": "ipython3",
   "version": "3.11.3"
  },
  "orig_nbformat": 4
 },
 "nbformat": 4,
 "nbformat_minor": 2
}
