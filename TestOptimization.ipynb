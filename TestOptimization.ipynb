{
  "cells": [
    {
      "attachments": {},
      "cell_type": "markdown",
      "metadata": {
        "colab_type": "text",
        "id": "view-in-github"
      },
      "source": [
        "<a href=\"https://colab.research.google.com/github/JR-1991/sysbiojax/blob/master/TestOptimization.ipynb\" target=\"_parent\"><img src=\"https://colab.research.google.com/assets/colab-badge.svg\" alt=\"Open In Colab\"/></a>"
      ]
    },
    {
      "attachments": {},
      "cell_type": "markdown",
      "metadata": {
        "id": "2vgY3iUUoQG3"
      },
      "source": [
        "### Plan\n",
        "\n",
        "* ✅ Convert datasets into arrays of shape \n",
        "  * [Replicate, Time, Species]\n",
        "* ✅ VMap the simulate function to iterate over each SaveAt and Y0 in parallel\n",
        "  * Keep Parameters constant!\n",
        "  * Each measurement has a y0 and timesteps plus data\n",
        "  * In case of replicates, duplicate y0\n",
        "* Upon conversion to a tensor, zero-pad data to the maximum array size\n",
        "  * This addresses varying sample times\n",
        "  * For beginning, lets stick with constant SaveAt array sizes for now\n",
        "* Effectively, simulate and calculate residuals simultaneously\n",
        "  * Jit this for maximum performance!\n",
        "* Run LMFit as usual, as most of the overhead comes from function evaluation"
      ]
    },
    {
      "cell_type": "code",
      "execution_count": 1,
      "metadata": {},
      "outputs": [
        {
          "name": "stderr",
          "output_type": "stream",
          "text": [
            "/Users/max/miniconda3/envs/jax/lib/python3.11/site-packages/tqdm/auto.py:21: TqdmWarning: IProgress not found. Please update jupyter and ipywidgets. See https://ipywidgets.readthedocs.io/en/stable/user_install.html\n",
            "  from .autonotebook import tqdm as notebook_tqdm\n"
          ]
        }
      ],
      "source": [
        "from sysbiojax import Model"
      ]
    },
    {
      "cell_type": "code",
      "execution_count": 12,
      "metadata": {},
      "outputs": [],
      "source": [
        "%load_ext autoreload\n",
        "%autoreload 2\n",
        "from sysbiojax.tools.parameterestimation import ParameterEstimator"
      ]
    },
    {
      "cell_type": "code",
      "execution_count": 2,
      "metadata": {
        "id": "ac03elQ2oQG6"
      },
      "outputs": [],
      "source": [
        "import jax\n",
        "import jax.numpy as jnp\n",
        "from jax import config\n",
        "import matplotlib.pyplot as plt\n",
        "import lmfit\n",
        "from lmfit import Parameters\n",
        "\n",
        "from typing import List, Dict\n",
        "\n",
        "config.update(\"jax_enable_x64\", True)"
      ]
    },
    {
      "cell_type": "code",
      "execution_count": 3,
      "metadata": {
        "colab": {
          "base_uri": "https://localhost:8080/",
          "height": 133
        },
        "id": "sGCdMAE9oQG7",
        "outputId": "b288e637-07b0-4d17-a0ac-e635171fb2e5"
      },
      "outputs": [
        {
          "name": "stdout",
          "output_type": "stream",
          "text": [
            "Model summary\n"
          ]
        },
        {
          "data": {
            "text/latex": [
              "$\\displaystyle x = \\left[\\begin{matrix}s_{1} & p_{0}\\end{matrix}\\right]$"
            ],
            "text/plain": [
              "Eq(x, Matrix([[s1, p0]]))"
            ]
          },
          "metadata": {},
          "output_type": "display_data"
        },
        {
          "data": {
            "text/latex": [
              "$\\displaystyle \\theta = \\left[\\begin{matrix}K_{m} & kcat & k\\end{matrix}\\right]$"
            ],
            "text/plain": [
              "Eq(theta, Matrix([[K_m, kcat, k]]))"
            ]
          },
          "metadata": {},
          "output_type": "display_data"
        },
        {
          "data": {
            "text/latex": [
              "$\\displaystyle \\frac{d}{d t} s_{1} = - \\frac{kcat p_{0} s_{1}}{K_{m} + s_{1}}$"
            ],
            "text/plain": [
              "Eq(Derivative(s1, t), -kcat*p0*s1/(K_m + s1))"
            ]
          },
          "metadata": {},
          "output_type": "display_data"
        },
        {
          "data": {
            "text/latex": [
              "$\\displaystyle \\frac{d}{d t} p_{0} = - k p_{0}$"
            ],
            "text/plain": [
              "Eq(Derivative(p0, t), -k*p0)"
            ]
          },
          "metadata": {},
          "output_type": "display_data"
        },
        {
          "data": {
            "text/html": [
              "<div>\n",
              "<style scoped>\n",
              "    .dataframe tbody tr th:only-of-type {\n",
              "        vertical-align: middle;\n",
              "    }\n",
              "\n",
              "    .dataframe tbody tr th {\n",
              "        vertical-align: top;\n",
              "    }\n",
              "\n",
              "    .dataframe thead th {\n",
              "        text-align: right;\n",
              "    }\n",
              "</style>\n",
              "<table border=\"1\" class=\"dataframe\">\n",
              "  <thead>\n",
              "    <tr style=\"text-align: right;\">\n",
              "      <th></th>\n",
              "      <th>name</th>\n",
              "      <th>symbol</th>\n",
              "      <th>value</th>\n",
              "      <th>initial_value</th>\n",
              "      <th>equation</th>\n",
              "      <th>lower_bound</th>\n",
              "      <th>upper_bound</th>\n",
              "      <th>stdev</th>\n",
              "    </tr>\n",
              "  </thead>\n",
              "  <tbody>\n",
              "    <tr>\n",
              "      <th>0</th>\n",
              "      <td>K_m</td>\n",
              "      <td>K_m</td>\n",
              "      <td>200</td>\n",
              "      <td>None</td>\n",
              "      <td>None</td>\n",
              "      <td>1.0</td>\n",
              "      <td>None</td>\n",
              "      <td>None</td>\n",
              "    </tr>\n",
              "    <tr>\n",
              "      <th>1</th>\n",
              "      <td>kcat</td>\n",
              "      <td>kcat</td>\n",
              "      <td>20</td>\n",
              "      <td>None</td>\n",
              "      <td>None</td>\n",
              "      <td>1.0</td>\n",
              "      <td>None</td>\n",
              "      <td>None</td>\n",
              "    </tr>\n",
              "    <tr>\n",
              "      <th>2</th>\n",
              "      <td>k</td>\n",
              "      <td>k</td>\n",
              "      <td>0</td>\n",
              "      <td>None</td>\n",
              "      <td>None</td>\n",
              "      <td>NaN</td>\n",
              "      <td>None</td>\n",
              "      <td>None</td>\n",
              "    </tr>\n",
              "  </tbody>\n",
              "</table>\n",
              "</div>"
            ],
            "text/plain": [
              "   name symbol  value initial_value equation  lower_bound upper_bound stdev\n",
              "0   K_m    K_m    200          None     None          1.0        None  None\n",
              "1  kcat   kcat     20          None     None          1.0        None  None\n",
              "2     k      k      0          None     None          NaN        None  None"
            ]
          },
          "metadata": {},
          "output_type": "display_data"
        },
        {
          "data": {
            "text/plain": []
          },
          "execution_count": 3,
          "metadata": {},
          "output_type": "execute_result"
        }
      ],
      "source": [
        "# Initialize the model\n",
        "model = Model(name=\"Simple menten model\")\n",
        "\n",
        "# Add species\n",
        "model.add_species(\"s1, p0\")\n",
        "\n",
        "# Add ODEs\n",
        "model.add_ode(\"s1\", \"- (kcat * p0 * s1) / ( K_m + s1)\")\n",
        "model.add_ode(\"p0\", \"- k * p0\")\n",
        "\n",
        "# Add parameter values\n",
        "model.parameters.kcat.value = 20\n",
        "model.parameters.kcat.lower_bound = 1\n",
        "model.parameters.k.value = 0\n",
        "model.parameters.K_m.value = 200\n",
        "model.parameters.K_m.lower_bound = 1\n",
        "\n",
        "model"
      ]
    },
    {
      "cell_type": "code",
      "execution_count": 4,
      "metadata": {
        "colab": {
          "base_uri": "https://localhost:8080/"
        },
        "id": "NVwUAY96oQG7",
        "outputId": "cc24e85c-796b-4c71-b0ea-10a769aecbad"
      },
      "outputs": [
        {
          "data": {
            "text/plain": [
              "(4, 100)"
            ]
          },
          "execution_count": 4,
          "metadata": {},
          "output_type": "execute_result"
        },
        {
          "data": {
            "image/png": "[encoded data removed]",
            "text/plain": [
              "<Figure size 640x480 with 1 Axes>"
            ]
          },
          "metadata": {},
          "output_type": "display_data"
        }
      ],
      "source": [
        "# Generate irregular time series data generated\n",
        "# from a simple menten model\n",
        "\n",
        "# Data is sampled at different time points\n",
        "# and also not at zero to reflect realistic\n",
        "# scenarios\n",
        "time = jnp.tile(jnp.linspace(0, 21, 100), 4).reshape(4, 100)\n",
        "\n",
        "# Set initial conditions above and below the\n",
        "# true Km value for the sake of the example\n",
        "initial_conditions = [\n",
        "    {\"s1\": 300.0, \"p0\": 1},\n",
        "    {\"s1\": 200.0, \"p0\": 1},\n",
        "    {\"s1\": 80.0, \"p0\": 1},\n",
        "    {\"s1\": 50.0, \"p0\": 1},\n",
        "]\n",
        "\n",
        "# K_m, k, kcat\n",
        "params = jnp.array([20, 0.1, 20])\n",
        "\n",
        "time, data = model.simulate(\n",
        "    initial_conditions=initial_conditions,\n",
        "    dt0=0.1,\n",
        "    saveat=time,\n",
        "    parameters=params,\n",
        "    in_axes=(0, None, 0),\n",
        ")\n",
        "\n",
        "substrate_measurements = data[:, :, 1]\n",
        "\n",
        "\n",
        "for t, d in zip(time, substrate_measurements):\n",
        "    plt.scatter(t, d)\n",
        "\n",
        "substrate_measurements.shape"
      ]
    },
    {
      "cell_type": "code",
      "execution_count": 29,
      "metadata": {},
      "outputs": [
        {
          "data": {
            "text/html": [
              "<div>\n",
              "<style scoped>\n",
              "    .dataframe tbody tr th:only-of-type {\n",
              "        vertical-align: middle;\n",
              "    }\n",
              "\n",
              "    .dataframe tbody tr th {\n",
              "        vertical-align: top;\n",
              "    }\n",
              "\n",
              "    .dataframe thead th {\n",
              "        text-align: right;\n",
              "    }\n",
              "</style>\n",
              "<table border=\"1\" class=\"dataframe\">\n",
              "  <thead>\n",
              "    <tr style=\"text-align: right;\">\n",
              "      <th></th>\n",
              "      <th>name</th>\n",
              "      <th>symbol</th>\n",
              "      <th>value</th>\n",
              "      <th>initial_value</th>\n",
              "      <th>equation</th>\n",
              "      <th>lower_bound</th>\n",
              "      <th>upper_bound</th>\n",
              "      <th>stdev</th>\n",
              "    </tr>\n",
              "  </thead>\n",
              "  <tbody>\n",
              "    <tr>\n",
              "      <th>0</th>\n",
              "      <td>K_m</td>\n",
              "      <td>K_m</td>\n",
              "      <td>200</td>\n",
              "      <td>None</td>\n",
              "      <td>None</td>\n",
              "      <td>1.0</td>\n",
              "      <td>None</td>\n",
              "      <td>None</td>\n",
              "    </tr>\n",
              "    <tr>\n",
              "      <th>1</th>\n",
              "      <td>kcat</td>\n",
              "      <td>kcat</td>\n",
              "      <td>20</td>\n",
              "      <td>None</td>\n",
              "      <td>None</td>\n",
              "      <td>1.0</td>\n",
              "      <td>None</td>\n",
              "      <td>None</td>\n",
              "    </tr>\n",
              "    <tr>\n",
              "      <th>2</th>\n",
              "      <td>k</td>\n",
              "      <td>k</td>\n",
              "      <td>0</td>\n",
              "      <td>None</td>\n",
              "      <td>None</td>\n",
              "      <td>NaN</td>\n",
              "      <td>None</td>\n",
              "      <td>None</td>\n",
              "    </tr>\n",
              "  </tbody>\n",
              "</table>\n",
              "</div>"
            ],
            "text/plain": [
              "   name symbol  value initial_value equation  lower_bound upper_bound stdev\n",
              "0   K_m    K_m    200          None     None          1.0        None  None\n",
              "1  kcat   kcat     20          None     None          1.0        None  None\n",
              "2     k      k      0          None     None          NaN        None  None"
            ]
          },
          "metadata": {},
          "output_type": "display_data"
        },
        {
          "data": {
            "text/plain": []
          },
          "execution_count": 29,
          "metadata": {},
          "output_type": "execute_result"
        }
      ],
      "source": [
        "model.parameters"
      ]
    },
    {
      "cell_type": "code",
      "execution_count": 32,
      "metadata": {},
      "outputs": [
        {
          "data": {
            "text/html": [
              "<h2>Fit Statistics</h2><table><tr><td>fitting method</td><td>leastsq</td><td></td></tr><tr><td># function evals</td><td>30</td><td></td></tr><tr><td># data points</td><td>800</td><td></td></tr><tr><td># variables</td><td>3</td><td></td></tr><tr><td>chi-square</td><td> 5.3316e-20</td><td></td></tr><tr><td>reduced chi-square</td><td> 6.6896e-23</td><td></td></tr><tr><td>Akaike info crit.</td><td>-40844.1259</td><td></td></tr><tr><td>Bayesian info crit.</td><td>-40830.0721</td><td></td></tr></table><h2>Variables</h2><table><tr><th> name </th><th> value </th><th> standard error </th><th> relative error </th><th> initial value </th><th> min </th><th> max </th><th> vary </th></tr><tr><td> K_m </td><td>  20.0000000 </td><td>  1.8852e-12 </td><td> (0.00%) </td><td> 200 </td><td>  1.00000000 </td><td>         inf </td><td> True </td></tr><tr><td> kcat </td><td>  20.0000000 </td><td>  4.6625e-13 </td><td> (0.00%) </td><td> 20 </td><td>  1.00000000 </td><td>         inf </td><td> True </td></tr><tr><td> k </td><td>  0.10000000 </td><td>  3.6348e-15 </td><td> (0.00%) </td><td> 0 </td><td>        -inf </td><td>         inf </td><td> True </td></tr></table><h2>Correlations (unreported correlations are < 0.100)</h2><table><tr><td>kcat</td><td>k</td><td>+0.8569</td></tr><tr><td>K_m</td><td>kcat</td><td>+0.5491</td></tr><tr><td>K_m</td><td>k</td><td>+0.1057</td></tr></table>"
            ],
            "text/plain": [
              "<lmfit.minimizer.MinimizerResult at 0x2b29aa4d0>"
            ]
          },
          "execution_count": 32,
          "metadata": {},
          "output_type": "execute_result"
        }
      ],
      "source": [
        "estimator = ParameterEstimator(\n",
        "    model=model,\n",
        "    data=data,\n",
        "    time=time,\n",
        "    initial_states=initial_conditions,\n",
        ")\n",
        "\n",
        "result = estimator.fit()\n",
        "result"
      ]
    }
  ],
  "metadata": {
    "colab": {
      "include_colab_link": true,
      "provenance": []
    },
    "kernelspec": {
      "display_name": "jaxlibnew",
      "language": "python",
      "name": "python3"
    },
    "language_info": {
      "codemirror_mode": {
        "name": "ipython",
        "version": 3
      },
      "file_extension": ".py",
      "mimetype": "text/x-python",
      "name": "python",
      "nbconvert_exporter": "python",
      "pygments_lexer": "ipython3",
      "version": "3.11.3"
    },
    "orig_nbformat": 4
  },
  "nbformat": 4,
  "nbformat_minor": 0
}
