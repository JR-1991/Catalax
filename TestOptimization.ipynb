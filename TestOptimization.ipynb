{
 "cells": [
  {
   "attachments": {},
   "cell_type": "markdown",
   "metadata": {},
   "source": [
    "### Plan\n",
    "\n",
    "* ✅ Convert datasets into arrays of shape \n",
    "  * [Replicate, Time, Species]\n",
    "* ✅ VMap the simulate function to iterate over each SaveAt and Y0 in parallel\n",
    "  * Keep Parameters constant!\n",
    "  * Each measurement has a y0 and timesteps plus data\n",
    "  * In case of replicates, duplicate y0\n",
    "* Upon conversion to a tensor, zero-pad data to the maximum array size\n",
    "  * This addresses varying sample times\n",
    "  * For beginning, lets stick with constant SaveAt array sizes for now\n",
    "* Effectively, simulate and calculate residuals simultaneously\n",
    "  * Jit this for maximum performance!\n",
    "* Run LMFit as usual, as most of the overhead comes from function evaluation"
   ]
  },
  {
   "cell_type": "code",
   "execution_count": null,
   "metadata": {},
   "outputs": [],
   "source": [
    "try:\n",
    "    from sysbiojax import Model\n",
    "except ImportError:\n",
    "    import sys\n",
    "    !{sys.executable} -m pip install git+https://github.com/JR-1991/sysbiojax.git\n",
    "\n",
    "    from sysbiojax import Model"
   ]
  },
  {
   "cell_type": "code",
   "execution_count": 1,
   "metadata": {},
   "outputs": [],
   "source": [
    "import jax\n",
    "import jax.numpy as jnp\n",
    "from jax import config\n",
    "\n",
    "config.update(\"jax_enable_x64\", True)"
   ]
  },
  {
   "cell_type": "code",
   "execution_count": 2,
   "metadata": {},
   "outputs": [
    {
     "data": {
      "text/latex": [
       "$\\displaystyle x = \\left[\\begin{matrix}s_{1} & s_{2}\\end{matrix}\\right]$"
      ],
      "text/plain": [
       "Eq(x, Matrix([[s1, s2]]))"
      ]
     },
     "metadata": {},
     "output_type": "display_data"
    },
    {
     "data": {
      "text/latex": [
       "$\\displaystyle \\theta = \\left[\\begin{matrix}K_{m} & v_{max}\\end{matrix}\\right]$"
      ],
      "text/plain": [
       "Eq(theta, Matrix([[K_m, v_max]]))"
      ]
     },
     "metadata": {},
     "output_type": "display_data"
    },
    {
     "data": {
      "text/latex": [
       "$\\displaystyle \\frac{d}{d t} s_{1} = - \\frac{s_{1} v_{max}}{K_{m} + s_{1}}$"
      ],
      "text/plain": [
       "Eq(Derivative(s1, t), -s1*v_max/(K_m + s1))"
      ]
     },
     "metadata": {},
     "output_type": "display_data"
    },
    {
     "data": {
      "text/latex": [
       "$\\displaystyle \\frac{d}{d t} s_{2} = \\frac{s_{1} v_{max}}{K_{m} + s_{1}}$"
      ],
      "text/plain": [
       "Eq(Derivative(s2, t), s1*v_max/(K_m + s1))"
      ]
     },
     "metadata": {},
     "output_type": "display_data"
    },
    {
     "data": {
      "text/plain": []
     },
     "execution_count": 2,
     "metadata": {},
     "output_type": "execute_result"
    }
   ],
   "source": [
    "# Initialize the model\n",
    "model = Model(name=\"Simple menten model\")\n",
    "\n",
    "# Add species\n",
    "model.add_species(\"s1, s2\")\n",
    "\n",
    "# Add ODEs\n",
    "model.add_ode(\"s1\", \"- (v_max * s1) / ( K_m + s1)\")\n",
    "model.add_ode(\"s2\", \"(v_max * s1) / ( K_m + s1)\")\n",
    "\n",
    "# Add parameter values\n",
    "model.parameters.v_max.value = 5.0\n",
    "model.parameters.K_m.value = 100.0\n",
    "\n",
    "model"
   ]
  },
  {
   "cell_type": "code",
   "execution_count": 13,
   "metadata": {},
   "outputs": [
    {
     "data": {
      "text/plain": [
       "(10, (10, 100))"
      ]
     },
     "execution_count": 13,
     "metadata": {},
     "output_type": "execute_result"
    }
   ],
   "source": [
    "# Create a mock dataset to fit\n",
    "import numpy as np\n",
    "\n",
    "DATASET_SIZE = 10\n",
    "TIME_STEPS = 100\n",
    "MAX_TIME = 100\n",
    "\n",
    "dataset = {\n",
    "    \"initial_conditions\": [\n",
    "        {\"s1\": np.random.uniform(50, 200), \"s2\": 0.0} \n",
    "        for _ in range(DATASET_SIZE) \n",
    "    ],\n",
    "    \"time\": jnp.array([\n",
    "        [step for step in jnp.linspace(0, MAX_TIME, TIME_STEPS)]\n",
    "        for _ in range(DATASET_SIZE)\n",
    "    ])\n",
    "}\n",
    "\n",
    "len(dataset[\"initial_conditions\"]), dataset[\"time\"].shape"
   ]
  },
  {
   "cell_type": "code",
   "execution_count": 22,
   "metadata": {},
   "outputs": [
    {
     "data": {
      "text/plain": [
       "(10, 100, 2)"
      ]
     },
     "execution_count": 22,
     "metadata": {},
     "output_type": "execute_result"
    }
   ],
   "source": [
    "# Create synthetic data from the given dataset\n",
    "#\n",
    "# SysBioJax provides a vmap for varying timesteps\n",
    "# and thus addresses irregular sampling times.\n",
    "# In the future, a more general solution will be provided\n",
    "# that also supports varying amounts of data points.\n",
    "\n",
    "t0 = jnp.min(dataset[\"time\"])\n",
    "t1 = jnp.ceil(jnp.max(dataset[\"time\"])) + 1\n",
    "dt0 = 0.01\n",
    "\n",
    "times, data = model.simulate(\n",
    "    initial_conditions=dataset[\"initial_conditions\"],\n",
    "    t0=t0, t1=t1, dt0=dt0, saveat=dataset[\"time\"], in_axes=(0, None, 0)\n",
    ")\n",
    "\n",
    "dataset[\"data\"] = data\n",
    "\n",
    "data.shape # (DATASET_SIZE, TIME_STEPS, SPECIES)"
   ]
  },
  {
   "cell_type": "code",
   "execution_count": 17,
   "metadata": {},
   "outputs": [],
   "source": [
    "# TODO - write 'residuals' function for parameter estimation"
   ]
  },
  {
   "cell_type": "code",
   "execution_count": 18,
   "metadata": {},
   "outputs": [],
   "source": [
    "# TODO - write LMFit wrapper for parameter estimation"
   ]
  },
  {
   "cell_type": "code",
   "execution_count": 20,
   "metadata": {},
   "outputs": [],
   "source": [
    "# TODO - Write a function that takes a model and a dataset and returns a fitted model"
   ]
  },
  {
   "cell_type": "code",
   "execution_count": 21,
   "metadata": {},
   "outputs": [],
   "source": [
    "# TODO - Write a measurement class that wraps data and provides it to the fitting function"
   ]
  }
 ],
 "metadata": {
  "kernelspec": {
   "display_name": "jaxlibnew",
   "language": "python",
   "name": "python3"
  },
  "language_info": {
   "codemirror_mode": {
    "name": "ipython",
    "version": 3
   },
   "file_extension": ".py",
   "mimetype": "text/x-python",
   "name": "python",
   "nbconvert_exporter": "python",
   "pygments_lexer": "ipython3",
   "version": "3.10.10"
  },
  "orig_nbformat": 4
 },
 "nbformat": 4,
 "nbformat_minor": 2
}
