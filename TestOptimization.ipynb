{
  "cells": [
    {
      "attachments": {},
      "cell_type": "markdown",
      "metadata": {
        "colab_type": "text",
        "id": "view-in-github"
      },
      "source": [
        "<a href=\"https://colab.research.google.com/github/JR-1991/sysbiojax/blob/master/TestOptimization.ipynb\" target=\"_parent\"><img src=\"https://colab.research.google.com/assets/colab-badge.svg\" alt=\"Open In Colab\"/></a>"
      ]
    },
    {
      "attachments": {},
      "cell_type": "markdown",
      "metadata": {
        "id": "2vgY3iUUoQG3"
      },
      "source": [
        "### Plan\n",
        "\n",
        "* ✅ Convert datasets into arrays of shape \n",
        "  * [Replicate, Time, Species]\n",
        "* ✅ VMap the simulate function to iterate over each SaveAt and Y0 in parallel\n",
        "  * Keep Parameters constant!\n",
        "  * Each measurement has a y0 and timesteps plus data\n",
        "  * In case of replicates, duplicate y0\n",
        "* Upon conversion to a tensor, zero-pad data to the maximum array size\n",
        "  * This addresses varying sample times\n",
        "  * For beginning, lets stick with constant SaveAt array sizes for now\n",
        "* Effectively, simulate and calculate residuals simultaneously\n",
        "  * Jit this for maximum performance!\n",
        "* Run LMFit as usual, as most of the overhead comes from function evaluation"
      ]
    },
    {
      "cell_type": "code",
      "execution_count": 2,
      "metadata": {
        "colab": {
          "base_uri": "https://localhost:8080/"
        },
        "id": "NYE2Zb42oQG6",
        "outputId": "a12cc1ec-7688-4568-f1d7-eba8ab3c584a"
      },
      "outputs": [],
      "source": [
        "try:\n",
        "    from sysbiojax import Model\n",
        "except ImportError:\n",
        "    !pip install git+https://github.com/JR-1991/sysbiojax.git"
      ]
    },
    {
      "cell_type": "code",
      "execution_count": 30,
      "metadata": {
        "id": "ac03elQ2oQG6"
      },
      "outputs": [],
      "source": [
        "import jax\n",
        "import jax.numpy as jnp\n",
        "from jax import config\n",
        "import matplotlib.pyplot as plt\n",
        "import lmfit\n",
        "from lmfit import Parameters\n",
        "\n",
        "from typing import List, Dict\n",
        "\n",
        "config.update(\"jax_enable_x64\", True)"
      ]
    },
    {
      "cell_type": "code",
      "execution_count": 4,
      "metadata": {
        "colab": {
          "base_uri": "https://localhost:8080/",
          "height": 133
        },
        "id": "sGCdMAE9oQG7",
        "outputId": "b288e637-07b0-4d17-a0ac-e635171fb2e5"
      },
      "outputs": [
        {
          "data": {
            "text/latex": [
              "$\\displaystyle x = \\left[\\begin{matrix}s_{1} & p_{0}\\end{matrix}\\right]$"
            ],
            "text/plain": [
              "Eq(x, Matrix([[s1, p0]]))"
            ]
          },
          "metadata": {},
          "output_type": "display_data"
        },
        {
          "data": {
            "text/latex": [
              "$\\displaystyle \\theta = \\left[\\begin{matrix}kcat & K_{m} & k\\end{matrix}\\right]$"
            ],
            "text/plain": [
              "Eq(theta, Matrix([[kcat, K_m, k]]))"
            ]
          },
          "metadata": {},
          "output_type": "display_data"
        },
        {
          "data": {
            "text/latex": [
              "$\\displaystyle \\frac{d}{d t} s_{1} = - \\frac{kcat p_{0} s_{1}}{K_{m} + s_{1}}$"
            ],
            "text/plain": [
              "Eq(Derivative(s1, t), -kcat*p0*s1/(K_m + s1))"
            ]
          },
          "metadata": {},
          "output_type": "display_data"
        },
        {
          "data": {
            "text/latex": [
              "$\\displaystyle \\frac{d}{d t} p_{0} = - k p_{0}$"
            ],
            "text/plain": [
              "Eq(Derivative(p0, t), -k*p0)"
            ]
          },
          "metadata": {},
          "output_type": "display_data"
        },
        {
          "data": {
            "text/plain": []
          },
          "execution_count": 4,
          "metadata": {},
          "output_type": "execute_result"
        }
      ],
      "source": [
        "# Initialize the model\n",
        "model = Model(name=\"Simple menten model\")\n",
        "\n",
        "# Add species\n",
        "model.add_species(\"s1, p0\")\n",
        "\n",
        "# Add ODEs\n",
        "model.add_ode(\"s1\", \"- (kcat * p0 * s1) / ( K_m + s1)\")\n",
        "model.add_ode(\"p0\", \"- k * p0\")\n",
        "\n",
        "# Add parameter values\n",
        "model.parameters.kcat.value = 20\n",
        "model.parameters.k.value = 0\n",
        "model.parameters.K_m.value = 200\n",
        "\n",
        "model"
      ]
    },
    {
      "cell_type": "code",
      "execution_count": 28,
      "metadata": {
        "colab": {
          "base_uri": "https://localhost:8080/"
        },
        "id": "NVwUAY96oQG7",
        "outputId": "cc24e85c-796b-4c71-b0ea-10a769aecbad"
      },
      "outputs": [
        {
          "data": {
            "text/plain": [
              "(4, 21)"
            ]
          },
          "execution_count": 28,
          "metadata": {},
          "output_type": "execute_result"
        },
        {
          "data": {
            "image/png": "[encoded data removed]",
            "text/plain": [
              "<Figure size 640x480 with 1 Axes>"
            ]
          },
          "metadata": {},
          "output_type": "display_data"
        }
      ],
      "source": [
        "# Generate irregular time series data generated\n",
        "# from a simple menten model\n",
        "\n",
        "# Data is sampled at different time points\n",
        "# and also not at zero to reflect realistic\n",
        "# scenarios\n",
        "time = jnp.tile(jnp.arange(21), 4).reshape(4, 21)\n",
        "\n",
        "# Set initial conditions above and below the\n",
        "# true Km value for the sake of the example\n",
        "initial_conditions = [\n",
        "    {\"s1\": 300.0, \"p0\": 1},\n",
        "    {\"s1\": 200.0, \"p0\": 1},\n",
        "    {\"s1\": 80.0, \"p0\": 1},\n",
        "    {\"s1\": 50.0, \"p0\": 1},\n",
        "]\n",
        "\n",
        "# K_m, k, kcat\n",
        "params = jnp.array([100, 0.1, 20])\n",
        "\n",
        "time, data = model.simulate(\n",
        "    initial_conditions=initial_conditions,\n",
        "    dt0=0.1,\n",
        "    saveat=time,\n",
        "    parameters=params,\n",
        "    in_axes=(0, None, 0),\n",
        ")\n",
        "\n",
        "substrate_measurements = data[:, :, 1]\n",
        "\n",
        "\n",
        "for t, d in zip(time, substrate_measurements):\n",
        "    plt.scatter(t, d)\n",
        "\n",
        "substrate_measurements.shape"
      ]
    },
    {
      "cell_type": "code",
      "execution_count": 20,
      "metadata": {},
      "outputs": [],
      "source": [
        "def create_lmfit_params(parameter_list: List[str]):\n",
        "    params = Parameters()\n",
        "    [params.add(name=name) for name in parameter_list]\n",
        "    return params"
      ]
    },
    {
      "cell_type": "code",
      "execution_count": 66,
      "metadata": {},
      "outputs": [],
      "source": [
        "# fcn(params, *args, **kws)\n",
        "\n",
        "\n",
        "def residuals(\n",
        "    params: Parameters,\n",
        "    model: Model,\n",
        "    time: jax.Array,\n",
        "    data: jax.Array,\n",
        "    initial_conditions: List[Dict[str, float]],\n",
        "    dt0: float,\n",
        "):\n",
        "    params_dict = params.valuesdict()\n",
        "    sorted_keys = sorted(list(params_dict.keys()))\n",
        "    parameters = jnp.array([params_dict[key] for key in sorted_keys])\n",
        "\n",
        "    sim_time, sim_data = model.simulate(\n",
        "        initial_conditions=initial_conditions,\n",
        "        dt0=dt0,\n",
        "        saveat=time,\n",
        "        parameters=parameters,\n",
        "        in_axes=(0, None, 0),\n",
        "    )\n",
        "\n",
        "    return sim_data - data"
      ]
    },
    {
      "cell_type": "code",
      "execution_count": 67,
      "metadata": {},
      "outputs": [],
      "source": [
        "# define lmfit parameters\n",
        "lmfit_params = create_lmfit_params(model.parameters)\n",
        "lmfit_params[\"kcat\"].value = 19\n",
        "lmfit_params[\"K_m\"].value = 99\n",
        "lmfit_params[\"k\"].value = 0.15"
      ]
    },
    {
      "cell_type": "code",
      "execution_count": 71,
      "metadata": {},
      "outputs": [],
      "source": [
        "# test residuals function\n",
        "res = residuals(\n",
        "    params=lmfit_params,\n",
        "    model=model,\n",
        "    time=time,\n",
        "    data=data,\n",
        "    dt0=0.1,\n",
        "    initial_conditions=initial_conditions,\n",
        ")\n",
        "\n",
        "# res"
      ]
    },
    {
      "cell_type": "code",
      "execution_count": 75,
      "metadata": {},
      "outputs": [
        {
          "data": {
            "text/html": [
              "<h2>Fit Statistics</h2><table><tr><td>fitting method</td><td>leastsq</td><td></td></tr><tr><td># function evals</td><td>21</td><td></td></tr><tr><td># data points</td><td>168</td><td></td></tr><tr><td># variables</td><td>3</td><td></td></tr><tr><td>chi-square</td><td> 2.6032e-24</td><td></td></tr><tr><td>reduced chi-square</td><td> 1.5777e-26</td><td></td></tr><tr><td>Akaike info crit.</td><td>-9978.11676</td><td></td></tr><tr><td>Bayesian info crit.</td><td>-9968.74487</td><td></td></tr></table><h2>Variables</h2><table><tr><th> name </th><th> value </th><th> standard error </th><th> relative error </th><th> initial value </th><th> min </th><th> max </th><th> vary </th></tr><tr><td> kcat </td><td>  20.0000000 </td><td>  2.3869e-14 </td><td> (0.00%) </td><td> 19 </td><td>        -inf </td><td>         inf </td><td> True </td></tr><tr><td> K_m </td><td> 100.0000000 </td><td>  2.1223e-13 </td><td> (0.00%) </td><td> 99 </td><td>        -inf </td><td>         inf </td><td> True </td></tr><tr><td> k </td><td>  0.10000000 </td><td>  1.7327e-16 </td><td> (0.00%) </td><td> 0.15 </td><td>        -inf </td><td>         inf </td><td> True </td></tr></table><h2>Correlations (unreported correlations are < 0.100)</h2><table><tr><td>kcat</td><td>k</td><td>+0.7311</td></tr><tr><td>kcat</td><td>K_m</td><td>+0.6377</td></tr></table>"
            ],
            "text/plain": [
              "<lmfit.minimizer.MinimizerResult at 0x29d3d1f90>"
            ]
          },
          "execution_count": 75,
          "metadata": {},
          "output_type": "execute_result"
        }
      ],
      "source": [
        "result = lmfit.minimize(\n",
        "    fcn=residuals,\n",
        "    params=lmfit_params,\n",
        "    kws={\n",
        "        \"model\": model,\n",
        "        \"time\": time,\n",
        "        \"data\": data,\n",
        "        \"dt0\": 0.1,\n",
        "        \"initial_conditions\": initial_conditions,\n",
        "    },\n",
        ")\n",
        "\n",
        "result"
      ]
    },
    {
      "cell_type": "code",
      "execution_count": null,
      "metadata": {
        "id": "F8letvbwoQG8"
      },
      "outputs": [],
      "source": [
        "# TODO - write 'residuals' function for parameter estimation"
      ]
    },
    {
      "cell_type": "code",
      "execution_count": null,
      "metadata": {
        "id": "7YoigwKroQG8"
      },
      "outputs": [],
      "source": [
        "# TODO - write LMFit wrapper for parameter estimation"
      ]
    },
    {
      "cell_type": "code",
      "execution_count": null,
      "metadata": {
        "id": "HFwBZCUHoQG8"
      },
      "outputs": [],
      "source": [
        "# TODO - Write a function that takes a model and a dataset and returns a fitted model"
      ]
    },
    {
      "cell_type": "code",
      "execution_count": null,
      "metadata": {
        "id": "Z1KXm5OIoQG8"
      },
      "outputs": [],
      "source": [
        "# TODO - Write a measurement class that wraps data and provides it to the fitting function"
      ]
    }
  ],
  "metadata": {
    "colab": {
      "include_colab_link": true,
      "provenance": []
    },
    "kernelspec": {
      "display_name": "jaxlibnew",
      "language": "python",
      "name": "python3"
    },
    "language_info": {
      "codemirror_mode": {
        "name": "ipython",
        "version": 3
      },
      "file_extension": ".py",
      "mimetype": "text/x-python",
      "name": "python",
      "nbconvert_exporter": "python",
      "pygments_lexer": "ipython3",
      "version": "3.11.3"
    },
    "orig_nbformat": 4
  },
  "nbformat": 4,
  "nbformat_minor": 0
}
