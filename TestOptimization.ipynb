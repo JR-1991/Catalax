{
  "cells": [
    {
      "cell_type": "markdown",
      "metadata": {
        "id": "view-in-github",
        "colab_type": "text"
      },
      "source": [
        "<a href=\"https://colab.research.google.com/github/JR-1991/sysbiojax/blob/master/TestOptimization.ipynb\" target=\"_parent\"><img src=\"https://colab.research.google.com/assets/colab-badge.svg\" alt=\"Open In Colab\"/></a>"
      ]
    },
    {
      "cell_type": "markdown",
      "metadata": {
        "id": "2vgY3iUUoQG3"
      },
      "source": [
        "### Plan\n",
        "\n",
        "* ✅ Convert datasets into arrays of shape \n",
        "  * [Replicate, Time, Species]\n",
        "* ✅ VMap the simulate function to iterate over each SaveAt and Y0 in parallel\n",
        "  * Keep Parameters constant!\n",
        "  * Each measurement has a y0 and timesteps plus data\n",
        "  * In case of replicates, duplicate y0\n",
        "* Upon conversion to a tensor, zero-pad data to the maximum array size\n",
        "  * This addresses varying sample times\n",
        "  * For beginning, lets stick with constant SaveAt array sizes for now\n",
        "* Effectively, simulate and calculate residuals simultaneously\n",
        "  * Jit this for maximum performance!\n",
        "* Run LMFit as usual, as most of the overhead comes from function evaluation"
      ]
    },
    {
      "cell_type": "code",
      "execution_count": 1,
      "metadata": {
        "id": "NYE2Zb42oQG6",
        "outputId": "a12cc1ec-7688-4568-f1d7-eba8ab3c584a",
        "colab": {
          "base_uri": "https://localhost:8080/"
        }
      },
      "outputs": [
        {
          "output_type": "stream",
          "name": "stdout",
          "text": [
            "Installing collected packages: dotted-dict, typeguard, jaxtyping, equinox, sympy2jax, diffrax, SysBioJax\n",
            "Successfully installed SysBioJax-0.0.0 diffrax-0.3.1 dotted-dict-1.1.3 equinox-0.10.3 jaxtyping-0.2.15 sympy2jax-0.0.4 typeguard-3.0.2\n"
          ]
        }
      ],
      "source": [
        "try:\n",
        "    from sysbiojax import Model\n",
        "except ImportError:\n",
        "    import sys\n",
        "    !{sys.executable} -m pip install git+https://github.com/JR-1991/sysbiojax.git\n",
        "\n",
        "    from sysbiojax import Model"
      ]
    },
    {
      "cell_type": "code",
      "execution_count": 2,
      "metadata": {
        "id": "ac03elQ2oQG6"
      },
      "outputs": [],
      "source": [
        "import jax\n",
        "import jax.numpy as jnp\n",
        "from jax import config\n",
        "\n",
        "config.update(\"jax_enable_x64\", True)"
      ]
    },
    {
      "cell_type": "code",
      "execution_count": 3,
      "metadata": {
        "id": "sGCdMAE9oQG7",
        "outputId": "b288e637-07b0-4d17-a0ac-e635171fb2e5",
        "colab": {
          "base_uri": "https://localhost:8080/",
          "height": 133
        }
      },
      "outputs": [
        {
          "output_type": "display_data",
          "data": {
            "text/plain": [
              "Eq(x, Matrix([[s1, s2]]))"
            ],
            "text/latex": "$\\displaystyle x = \\left[\\begin{matrix}s_{1} & s_{2}\\end{matrix}\\right]$"
          },
          "metadata": {}
        },
        {
          "output_type": "display_data",
          "data": {
            "text/plain": [
              "Eq(theta, Matrix([[K_m, v_max]]))"
            ],
            "text/latex": "$\\displaystyle \\theta = \\left[\\begin{matrix}K_{m} & v_{max}\\end{matrix}\\right]$"
          },
          "metadata": {}
        },
        {
          "output_type": "display_data",
          "data": {
            "text/plain": [
              "Eq(Derivative(s1, t), -s1*v_max/(K_m + s1))"
            ],
            "text/latex": "$\\displaystyle \\frac{d}{d t} s_{1} = - \\frac{s_{1} v_{max}}{K_{m} + s_{1}}$"
          },
          "metadata": {}
        },
        {
          "output_type": "display_data",
          "data": {
            "text/plain": [
              "Eq(Derivative(s2, t), s1*v_max/(K_m + s1))"
            ],
            "text/latex": "$\\displaystyle \\frac{d}{d t} s_{2} = \\frac{s_{1} v_{max}}{K_{m} + s_{1}}$"
          },
          "metadata": {}
        },
        {
          "output_type": "execute_result",
          "data": {
            "text/plain": []
          },
          "metadata": {},
          "execution_count": 3
        }
      ],
      "source": [
        "# Initialize the model\n",
        "model = Model(name=\"Simple menten model\")\n",
        "\n",
        "# Add species\n",
        "model.add_species(\"s1, s2\")\n",
        "\n",
        "# Add ODEs\n",
        "model.add_ode(\"s1\", \"- (v_max * s1) / ( K_m + s1)\")\n",
        "model.add_ode(\"s2\", \"(v_max * s1) / ( K_m + s1)\")\n",
        "\n",
        "# Add parameter values\n",
        "model.parameters.v_max.value = 5.0\n",
        "model.parameters.K_m.value = 100.0\n",
        "\n",
        "model"
      ]
    },
    {
      "cell_type": "code",
      "execution_count": 4,
      "metadata": {
        "id": "NVwUAY96oQG7",
        "outputId": "cc24e85c-796b-4c71-b0ea-10a769aecbad",
        "colab": {
          "base_uri": "https://localhost:8080/"
        }
      },
      "outputs": [
        {
          "output_type": "stream",
          "name": "stderr",
          "text": [
            "WARNING:jax._src.xla_bridge:No GPU/TPU found, falling back to CPU. (Set TF_CPP_MIN_LOG_LEVEL=0 and rerun for more info.)\n"
          ]
        },
        {
          "output_type": "execute_result",
          "data": {
            "text/plain": [
              "(10, (10, 100))"
            ]
          },
          "metadata": {},
          "execution_count": 4
        }
      ],
      "source": [
        "# Create a mock dataset to fit\n",
        "import numpy as np\n",
        "\n",
        "DATASET_SIZE = 10\n",
        "TIME_STEPS = 100\n",
        "MAX_TIME = 100\n",
        "\n",
        "dataset = {\n",
        "    \"initial_conditions\": [\n",
        "        {\"s1\": np.random.uniform(50, 200), \"s2\": 0.0} \n",
        "        for _ in range(DATASET_SIZE) \n",
        "    ],\n",
        "    \"time\": jnp.array([\n",
        "        [step for step in jnp.linspace(0, MAX_TIME, TIME_STEPS)]\n",
        "        for _ in range(DATASET_SIZE)\n",
        "    ])\n",
        "}\n",
        "\n",
        "len(dataset[\"initial_conditions\"]), dataset[\"time\"].shape"
      ]
    },
    {
      "cell_type": "code",
      "execution_count": 5,
      "metadata": {
        "id": "6sZloBo3oQG7",
        "outputId": "a1432ff3-986b-4bc3-e869-44e804fca184",
        "colab": {
          "base_uri": "https://localhost:8080/"
        }
      },
      "outputs": [
        {
          "output_type": "execute_result",
          "data": {
            "text/plain": [
              "(10, 100, 2)"
            ]
          },
          "metadata": {},
          "execution_count": 5
        }
      ],
      "source": [
        "# Create synthetic data from the given dataset\n",
        "#\n",
        "# SysBioJax provides a vmap for varying timesteps\n",
        "# and thus addresses irregular sampling times.\n",
        "# In the future, a more general solution will be provided\n",
        "# that also supports varying amounts of data points.\n",
        "\n",
        "t0 = jnp.min(dataset[\"time\"])\n",
        "t1 = jnp.ceil(jnp.max(dataset[\"time\"])) + 1\n",
        "dt0 = 0.01\n",
        "\n",
        "times, data = model.simulate(\n",
        "    initial_conditions=dataset[\"initial_conditions\"],\n",
        "    t0=t0, t1=t1, dt0=dt0, saveat=dataset[\"time\"], in_axes=(0, None, 0)\n",
        ")\n",
        "\n",
        "dataset[\"data\"] = data\n",
        "\n",
        "data.shape # (DATASET_SIZE, TIME_STEPS, SPECIES)"
      ]
    },
    {
      "cell_type": "code",
      "execution_count": null,
      "metadata": {
        "id": "F8letvbwoQG8"
      },
      "outputs": [],
      "source": [
        "# TODO - write 'residuals' function for parameter estimation"
      ]
    },
    {
      "cell_type": "code",
      "execution_count": null,
      "metadata": {
        "id": "7YoigwKroQG8"
      },
      "outputs": [],
      "source": [
        "# TODO - write LMFit wrapper for parameter estimation"
      ]
    },
    {
      "cell_type": "code",
      "execution_count": null,
      "metadata": {
        "id": "HFwBZCUHoQG8"
      },
      "outputs": [],
      "source": [
        "# TODO - Write a function that takes a model and a dataset and returns a fitted model"
      ]
    },
    {
      "cell_type": "code",
      "execution_count": null,
      "metadata": {
        "id": "Z1KXm5OIoQG8"
      },
      "outputs": [],
      "source": [
        "# TODO - Write a measurement class that wraps data and provides it to the fitting function"
      ]
    }
  ],
  "metadata": {
    "kernelspec": {
      "display_name": "jaxlibnew",
      "language": "python",
      "name": "python3"
    },
    "language_info": {
      "codemirror_mode": {
        "name": "ipython",
        "version": 3
      },
      "file_extension": ".py",
      "mimetype": "text/x-python",
      "name": "python",
      "nbconvert_exporter": "python",
      "pygments_lexer": "ipython3",
      "version": "3.10.10"
    },
    "orig_nbformat": 4,
    "colab": {
      "provenance": [],
      "include_colab_link": true
    }
  },
  "nbformat": 4,
  "nbformat_minor": 0
}